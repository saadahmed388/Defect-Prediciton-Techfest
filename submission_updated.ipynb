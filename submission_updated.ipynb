{
  "cells": [
    {
      "cell_type": "code",
      "execution_count": null,
      "metadata": {
        "id": "3xCESIzFey4H"
      },
      "outputs": [],
      "source": [
        "import pandas as pd\n",
        "import numpy as np\n",
        "import matplotlib.pyplot as plt\n",
        "import glob\n",
        "import pickle\n",
        "from scipy import stats\n",
        "from sklearn.metrics import classification_report"
      ]
    },
    {
      "cell_type": "code",
      "execution_count": null,
      "metadata": {
        "colab": {
          "base_uri": "https://localhost:8080/"
        },
        "id": "F0-AG1-OpfsG",
        "outputId": "a4a3f489-e038-4d6f-fe9e-851a43c51ec9"
      },
      "outputs": [
        {
          "output_type": "stream",
          "name": "stdout",
          "text": [
            "Drive already mounted at /content/drive; to attempt to forcibly remount, call drive.mount(\"/content/drive\", force_remount=True).\n"
          ]
        }
      ],
      "source": [
        "from google.colab import drive\n",
        "drive.mount('/content/drive')"
      ]
    },
    {
      "cell_type": "code",
      "execution_count": null,
      "metadata": {
        "id": "dTSDOF8PjbST",
        "colab": {
          "base_uri": "https://localhost:8080/"
        },
        "outputId": "5b3df099-ea1e-496d-a15f-8cdce441afc2"
      },
      "outputs": [
        {
          "output_type": "stream",
          "name": "stdout",
          "text": [
            "Looking in indexes: https://pypi.org/simple, https://us-python.pkg.dev/colab-wheels/public/simple/\n",
            "Requirement already satisfied: imbalanced_ensemble in /usr/local/lib/python3.8/dist-packages (0.1.7)\n",
            "Requirement already satisfied: scikit-learn>=1.0 in /usr/local/lib/python3.8/dist-packages (from imbalanced_ensemble) (1.0.2)\n",
            "Requirement already satisfied: seaborn>=0.11.0 in /usr/local/lib/python3.8/dist-packages (from imbalanced_ensemble) (0.11.2)\n",
            "Requirement already satisfied: numpy>=1.16.0 in /usr/local/lib/python3.8/dist-packages (from imbalanced_ensemble) (1.21.6)\n",
            "Requirement already satisfied: matplotlib>=3.3.2 in /usr/local/lib/python3.8/dist-packages (from imbalanced_ensemble) (3.6.2)\n",
            "Requirement already satisfied: scipy>=0.19.1 in /usr/local/lib/python3.8/dist-packages (from imbalanced_ensemble) (1.7.3)\n",
            "Requirement already satisfied: tqdm>=4.50.2 in /usr/local/lib/python3.8/dist-packages (from imbalanced_ensemble) (4.64.1)\n",
            "Requirement already satisfied: pandas>=1.1.3joblib>=0.11 in /usr/local/lib/python3.8/dist-packages (from imbalanced_ensemble) (1.3.5)\n",
            "Requirement already satisfied: pillow>=6.2.0 in /usr/local/lib/python3.8/dist-packages (from matplotlib>=3.3.2->imbalanced_ensemble) (7.1.2)\n",
            "Requirement already satisfied: contourpy>=1.0.1 in /usr/local/lib/python3.8/dist-packages (from matplotlib>=3.3.2->imbalanced_ensemble) (1.0.6)\n",
            "Requirement already satisfied: kiwisolver>=1.0.1 in /usr/local/lib/python3.8/dist-packages (from matplotlib>=3.3.2->imbalanced_ensemble) (1.4.4)\n",
            "Requirement already satisfied: packaging>=20.0 in /usr/local/lib/python3.8/dist-packages (from matplotlib>=3.3.2->imbalanced_ensemble) (21.3)\n",
            "Requirement already satisfied: cycler>=0.10 in /usr/local/lib/python3.8/dist-packages (from matplotlib>=3.3.2->imbalanced_ensemble) (0.11.0)\n",
            "Requirement already satisfied: fonttools>=4.22.0 in /usr/local/lib/python3.8/dist-packages (from matplotlib>=3.3.2->imbalanced_ensemble) (4.38.0)\n",
            "Requirement already satisfied: pyparsing>=2.2.1 in /usr/local/lib/python3.8/dist-packages (from matplotlib>=3.3.2->imbalanced_ensemble) (3.0.9)\n",
            "Requirement already satisfied: python-dateutil>=2.7 in /usr/local/lib/python3.8/dist-packages (from matplotlib>=3.3.2->imbalanced_ensemble) (2.8.2)\n",
            "Requirement already satisfied: pytz>=2017.3 in /usr/local/lib/python3.8/dist-packages (from pandas>=1.1.3joblib>=0.11->imbalanced_ensemble) (2022.6)\n",
            "Requirement already satisfied: six>=1.5 in /usr/local/lib/python3.8/dist-packages (from python-dateutil>=2.7->matplotlib>=3.3.2->imbalanced_ensemble) (1.15.0)\n",
            "Requirement already satisfied: joblib>=0.11 in /usr/local/lib/python3.8/dist-packages (from scikit-learn>=1.0->imbalanced_ensemble) (1.2.0)\n",
            "Requirement already satisfied: threadpoolctl>=2.0.0 in /usr/local/lib/python3.8/dist-packages (from scikit-learn>=1.0->imbalanced_ensemble) (3.1.0)\n"
          ]
        }
      ],
      "source": [
        "!pip install imbalanced_ensemble"
      ]
    },
    {
      "cell_type": "code",
      "source": [
        "df = pd.DataFrame(pd.read_csv('/content/drive/MyDrive/Techfest/CBM_WM6undefined_Oct_30.csv'))"
      ],
      "metadata": {
        "colab": {
          "base_uri": "https://localhost:8080/"
        },
        "id": "Y3Dxkze7Vbgx",
        "outputId": "66311379-c7a8-403b-ab5d-fd83ee1ff58f"
      },
      "execution_count": null,
      "outputs": [
        {
          "output_type": "stream",
          "name": "stderr",
          "text": [
            "/usr/local/lib/python3.8/dist-packages/IPython/core/interactiveshell.py:3326: DtypeWarning: Columns (0,1,4) have mixed types.Specify dtype option on import or set low_memory=False.\n",
            "  exec(code_obj, self.user_global_ns, self.user_ns)\n"
          ]
        }
      ]
    },
    {
      "cell_type": "code",
      "source": [],
      "metadata": {
        "id": "BFv9LZV6Vi9W"
      },
      "execution_count": null,
      "outputs": []
    },
    {
      "cell_type": "code",
      "execution_count": null,
      "metadata": {
        "colab": {
          "base_uri": "https://localhost:8080/"
        },
        "id": "b1RITGGYkE8L",
        "outputId": "2256fa21-59f4-49bf-ca51-865011e99197"
      },
      "outputs": [
        {
          "output_type": "stream",
          "name": "stderr",
          "text": [
            "/usr/local/lib/python3.8/dist-packages/IPython/core/interactiveshell.py:3326: DtypeWarning: Columns (0,1,4) have mixed types.Specify dtype option on import or set low_memory=False.\n",
            "  exec(code_obj, self.user_global_ns, self.user_ns)\n"
          ]
        }
      ],
      "source": [
        "df = pd.DataFrame(pd.read_csv('/content/drive/MyDrive/Techfest/CBM_WM6undefined_Oct_30.csv'))\n",
        "\n",
        "df.drop(df.filter(regex=\"Unname\"),axis=1, inplace=True)\n",
        "df2=df[['Current','Humidity','Temperature','Flow','Job Temp','Voltage','Defect','Order Operation No']].copy()\n",
        "df2['Defect'] = df2['Defect'].replace(['No Defect0','No Defect40','No Defect57','No Defect58','No Defect59','No Defect60','No Defect61','No Defect62','No Defect63','No Defect64','No Defect65','No Defect66','No Defect67','No Defect68','No Defect69','No Defect70','No Defect71','No Defect72','No Defect73','No Defect74','No Defect75','No Defect76','No Defect77','No Defect78','No Defect79','No Defect80','No Defect81','No Defect82','No Defect83','No Defect84','No Defect85','No Defect86','No Defect87','No Defect88','No Defect90','No Defect99'],'No Defect')\n",
        "df2['Defect'] = df2['Defect'].replace(['Porosity71','Porosity75','Porosity76','Porosity80','Porosity86'],'Porosity')\n",
        "df2['Defect']=df2['Defect'].replace(['Tungsten Inclusion67','Tungsten Inclusion71','Tungsten Inclusion72','Tungsten Inclusion75','Tungsten Inclusion76','Tungsten Inclusion77','Tungsten Inclusion78','Tungsten Inclusion80'],'Tungsten Inclusion')\n",
        "df2['Defect'] = df2['Defect'].replace(['No defect'],'No Defect')\n",
        "df2.drop([0],axis=0,inplace=True)\n",
        "df2.replace([np.inf, -np.inf], np.nan, inplace=True)\n",
        "df2.fillna(0, inplace=True)\n",
        "df2.drop(df2[df2['Order Operation No']=='undefined'].index,axis=0,inplace=True)\n",
        "df2.drop(df2[df2['Order Operation No']=='-'].index,axis=0,inplace=True)\n",
        "df2.replace('180-', 180, inplace=True)\n",
        "\n"
      ]
    },
    {
      "cell_type": "code",
      "execution_count": null,
      "metadata": {
        "id": "e3zq4d0AxIfM"
      },
      "outputs": [],
      "source": [
        "from sklearn.model_selection import train_test_split\n",
        "df2 = df2.sample(frac=1)\n",
        "X = df2.drop(['Defect'], axis=1)\n",
        "y = df2['Defect']\n",
        "\n",
        "x_n_train, x_n_test, y_n_train, y_n_test = train_test_split(\n",
        " X, y, test_size=0.3, random_state = 42,stratify = y)\n",
        "\n",
        "y_n = y_n_test.copy()\n",
        "y_n.replace(['Porosity','Tungsten Inclusion'],'Defect', inplace=True)"
      ]
    },
    {
      "cell_type": "code",
      "execution_count": null,
      "metadata": {
        "id": "Qywi5y-gkZfu"
      },
      "outputs": [],
      "source": [
        "Y_ed = df2['Defect'].copy()\n",
        "Y_ed.replace(['Porosity','Tungsten Inclusion'],'Defect', inplace=True)\n",
        "x_train, x_test, y_train, y_test = train_test_split(\n",
        " X, Y_ed, test_size=0.3, random_state = 42, shuffle = False)"
      ]
    },
    {
      "cell_type": "code",
      "execution_count": null,
      "metadata": {
        "colab": {
          "base_uri": "https://localhost:8080/"
        },
        "id": "dNWaxK66fyb5",
        "outputId": "24d17a56-10e3-493a-84aa-b9d6dd60cf19"
      },
      "outputs": [
        {
          "output_type": "stream",
          "name": "stdout",
          "text": [
            "              precision    recall  f1-score   support\n",
            "\n",
            "      Defect    0.06041   0.99495   0.11390      1781\n",
            "   No Defect    0.99987   0.72191   0.83845     99107\n",
            "\n",
            "    accuracy                        0.72673    100888\n",
            "   macro avg    0.53014   0.85843   0.47618    100888\n",
            "weighted avg    0.98329   0.72673   0.82566    100888\n",
            "\n"
          ]
        },
        {
          "output_type": "stream",
          "name": "stderr",
          "text": [
            "/usr/local/lib/python3.8/dist-packages/sklearn/metrics/_classification.py:1318: UndefinedMetricWarning: Recall and F-score are ill-defined and being set to 0.0 in labels with no true samples. Use `zero_division` parameter to control this behavior.\n",
            "  _warn_prf(average, modifier, msg_start, len(result))\n",
            "/usr/local/lib/python3.8/dist-packages/sklearn/metrics/_classification.py:1318: UndefinedMetricWarning: Recall and F-score are ill-defined and being set to 0.0 in labels with no true samples. Use `zero_division` parameter to control this behavior.\n",
            "  _warn_prf(average, modifier, msg_start, len(result))\n"
          ]
        },
        {
          "output_type": "stream",
          "name": "stdout",
          "text": [
            "                    precision    recall  f1-score   support\n",
            "\n",
            "         No Defect    0.99987   0.72191   0.83845     99107\n",
            "          Porosity    0.00000   0.00000   0.00000         0\n",
            "Tungsten Inclusion    0.06098   0.98933   0.11487      1781\n",
            "\n",
            "          accuracy                        0.72663    100888\n",
            "         macro avg    0.35362   0.57041   0.31778    100888\n",
            "      weighted avg    0.98330   0.72663   0.82568    100888\n",
            "\n"
          ]
        },
        {
          "output_type": "stream",
          "name": "stderr",
          "text": [
            "/usr/local/lib/python3.8/dist-packages/sklearn/metrics/_classification.py:1318: UndefinedMetricWarning: Recall and F-score are ill-defined and being set to 0.0 in labels with no true samples. Use `zero_division` parameter to control this behavior.\n",
            "  _warn_prf(average, modifier, msg_start, len(result))\n"
          ]
        }
      ],
      "source": [
        "path = '/content/drive/MyDrive/Techfest/Models/brf models'\n",
        "files = glob.glob(path + '/*.sav')\n",
        "models = []\n",
        "for f in files:\n",
        "  loaded_model = pickle.load(open(f, 'rb'))\n",
        "  models.append(loaded_model)\n",
        "x_n_test = x_n_test.astype(float)\n",
        "\n",
        "yhats = [model.predict(x_n_test) for model in models]\n",
        "yhats = np.array(yhats)\n",
        "yhats1 = yhats[:-1,:]\n",
        "yhats2 = yhats[-1,:]\n",
        "outcomes, _ = stats.mode(yhats1)\n",
        "outcomes = np.transpose(outcomes)\n",
        "print(classification_report(y_n,outcomes,digits =5))\n",
        "\n",
        "yhats2 = np.transpose(yhats2)\n",
        "outcomes = np.reshape(outcomes,(-1,1))\n",
        "yhats2 = np.reshape(yhats2,(-1,1))\n",
        "for i in range(len(outcomes)):\n",
        "  if(outcomes[i]=='Defect'):\n",
        "    outcomes[i] = yhats2[i]\n",
        "\n",
        "print(classification_report(y_n_test,outcomes,digits =5))"
      ]
    },
    {
      "cell_type": "code",
      "execution_count": null,
      "metadata": {
        "id": "Xo0GKFaaskue"
      },
      "outputs": [],
      "source": []
    }
  ],
  "metadata": {
    "accelerator": "GPU",
    "colab": {
      "provenance": []
    },
    "gpuClass": "standard",
    "kernelspec": {
      "display_name": "Python 3",
      "name": "python3"
    },
    "language_info": {
      "name": "python"
    }
  },
  "nbformat": 4,
  "nbformat_minor": 0
}